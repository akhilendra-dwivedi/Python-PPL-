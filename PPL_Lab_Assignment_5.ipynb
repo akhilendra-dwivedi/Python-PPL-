{
  "metadata": {
    "kernelspec": {
      "name": "xpython",
      "display_name": "Python 3.13 (XPython)",
      "language": "python"
    },
    "language_info": {
      "file_extension": ".py",
      "mimetype": "text/x-python",
      "name": "python",
      "version": "3.13.1"
    }
  },
  "nbformat_minor": 5,
  "nbformat": 4,
  "cells": [
    {
      "id": "4417bbe3-00de-4a7e-ab97-fc83d75814fd",
      "cell_type": "code",
      "source": "def encrypt_message_vigenere(message, key):\n    encrypted = ''\n    key_len = len(key)\n    for i, c in enumerate(message):\n        shift = ord(key[i % key_len])\n        encrypted += chr(ord(c) + shift)\n    return encrypted\n\nmsg = input(\"Enter message to encrypt: \")\nkey = input(\"Enter key string: \")\nprint(\"Encrypted message:\", encrypt_message_vigenere(msg, key))",
      "metadata": {
        "trusted": true
      },
      "outputs": [
        {
          "output_type": "stream",
          "name": "stdin",
          "text": "Enter message to encrypt:  is this class of ppl lab or adsa lab\nEnter key string:  lab\n"
        },
        {
          "name": "stdout",
          "output_type": "stream",
          "text": "Encrypted message: ÕÔàÉËßÅØÂÕßÑÒÒÜÍØÂÄÐÔÂÆßÂØÂÄ\n"
        }
      ],
      "execution_count": 6
    },
    {
      "id": "8bb14db4-d050-43e0-8e29-a06a2eab205b",
      "cell_type": "code",
      "source": "# Q2: Find character in string and print indices\ndef find_char_indices(s, ch):\n    indices = [i for i in range(len(s)) if s[i] == ch]\n    return indices\n\ns = input(\"Enter string: \")\nc = input(\"Enter character to find: \")\nindices = find_char_indices(s, c)\nif indices:\n    print(f\"Character '{c}' found at indices:\", indices)\nelse:\n    print(f\"Character '{c}' not found\")",
      "metadata": {
        "trusted": true
      },
      "outputs": [
        {
          "output_type": "stream",
          "name": "stdin",
          "text": "Enter string:  yes i know about it\nEnter character to find:  k\n"
        },
        {
          "name": "stdout",
          "output_type": "stream",
          "text": "Character 'k' found at indices: [6]\n"
        }
      ],
      "execution_count": 7
    },
    {
      "id": "7487c354-d105-4ab2-b0a9-9eb2006bf3b2",
      "cell_type": "code",
      "source": "# Q3: Count occurrences of character\ndef count_char(s, ch):\n    count = 0\n    for char in s:\n        if char == ch:\n            count += 1\n    return count\n\ns = input(\"Enter string: \")\nc = input(\"Enter character to count: \")\nprint(f\"Character '{c}' occurs {count_char(s, c)} times\")",
      "metadata": {
        "trusted": true
      },
      "outputs": [
        {
          "output_type": "stream",
          "name": "stdin",
          "text": "Enter string:  what are asking about that subject after exam\nEnter character to count:  a\n"
        },
        {
          "name": "stdout",
          "output_type": "stream",
          "text": "Character 'a' occurs 7 times\n"
        }
      ],
      "execution_count": 8
    },
    {
      "id": "c8d199ef-9d04-4880-9960-a493dc4552aa",
      "cell_type": "code",
      "source": "# Q4: Four copies of last two characters\ndef four_copies_last_two(s):\n    if len(s) < 2:\n        return \"String too short\"\n    return s[-2:] * 4\n\ns = input(\"Enter string: \")\nprint(f\"Result:\", four_copies_last_two(s))",
      "metadata": {
        "trusted": true
      },
      "outputs": [
        {
          "output_type": "stream",
          "name": "stdin",
          "text": "Enter string:  yeah i know that u walked that way on evening\n"
        },
        {
          "name": "stdout",
          "output_type": "stream",
          "text": "Result: ngngngng\n"
        }
      ],
      "execution_count": 9
    },
    {
      "id": "5ccc92a9-1924-44bf-b058-47f81beac738",
      "cell_type": "code",
      "source": "# Q5: Reverse string if length multiple of 4\ndef reverse_if_multiple_of_four(s):\n    if len(s) % 4 == 0:\n        return s[::-1]\n    return s\n\ns = input(\"Enter string: \")\nprint(f\"Result:\", reverse_if_multiple_of_four(s))",
      "metadata": {
        "trusted": true
      },
      "outputs": [
        {
          "output_type": "stream",
          "name": "stdin",
          "text": "Enter string:  i can but fear about something makes me stop\n"
        },
        {
          "name": "stdout",
          "output_type": "stream",
          "text": "Result: pots em sekam gnihtemos tuoba raef tub nac i\n"
        }
      ],
      "execution_count": 11
    },
    {
      "id": "84d63a0a-44f0-45b8-95e2-9ff4070589fe",
      "cell_type": "code",
      "source": "# Q6: Check if string has at least one vowel\ndef has_vowel(s):\n    vowels = \"aeiouAEIOU\"\n    for c in s:\n        if c in vowels:\n            return True\n    return False\n\ns = input(\"Enter string: \")\nprint(\"Contains vowel:\" , has_vowel(s))",
      "metadata": {
        "trusted": true
      },
      "outputs": [
        {
          "output_type": "stream",
          "name": "stdin",
          "text": "Enter string:  i do poetry a lot\n"
        },
        {
          "name": "stdout",
          "output_type": "stream",
          "text": "Contains vowel: True\n"
        }
      ],
      "execution_count": 12
    },
    {
      "id": "bdcf8a2d-2490-418b-95e7-f47ffd991a3e",
      "cell_type": "code",
      "source": "# Q7: Regex match strings starting with digits, followed by space, then arbitrary characters\nimport re\ndef match_pattern(s):\n    pattern = r'^\\d+ .+'\n    return bool(re.match(pattern, s))\n\ns = input(\"Enter string to check regex pattern: \")\nprint(\"Matches pattern:\", match_pattern(s))",
      "metadata": {
        "trusted": true
      },
      "outputs": [
        {
          "output_type": "stream",
          "name": "stdin",
          "text": "Enter string to check regex pattern:  ok ok i will come later\n"
        },
        {
          "name": "stdout",
          "output_type": "stream",
          "text": "Matches pattern: False\n"
        }
      ],
      "execution_count": 13
    },
    {
      "id": "148e1f45-9640-414f-8302-e6032fdbc32d",
      "cell_type": "code",
      "source": "# Q8: Print first two characters of every word\ndef first_two_chars_simple(s):\n    words = s.split()\n    return [w[:2] for w in words]\n\ndef first_two_chars_regex(s):\n    return re.findall(r'\\b(\\w{1,2})', s)\n\ns = input(\"Enter string: \")\nprint(\"First two chars (simple):\", first_two_chars_simple(s))\nprint(\"First two chars (regex):\", first_two_chars_regex(s))",
      "metadata": {
        "trusted": true
      },
      "outputs": [
        {
          "output_type": "stream",
          "name": "stdin",
          "text": "Enter string:  naah i guess its too late\n"
        },
        {
          "name": "stdout",
          "output_type": "stream",
          "text": "First two chars (simple): ['na', 'i', 'gu', 'it', 'to', 'la']\nFirst two chars (regex): ['na', 'i', 'gu', 'it', 'to', 'la']\n"
        }
      ],
      "execution_count": 14
    },
    {
      "id": "a429ce76-bf43-440d-a335-eb314c1dd87d",
      "cell_type": "code",
      "source": "",
      "metadata": {
        "trusted": true
      },
      "outputs": [],
      "execution_count": null
    }
  ]
}