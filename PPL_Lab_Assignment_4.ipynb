{
  "metadata": {
    "kernelspec": {
      "name": "xpython",
      "display_name": "Python 3.13 (XPython)",
      "language": "python"
    },
    "language_info": {
      "file_extension": ".py",
      "mimetype": "text/x-python",
      "name": "python",
      "version": "3.13.1"
    }
  },
  "nbformat_minor": 5,
  "nbformat": 4,
  "cells": [
    {
      "id": "372248f2-bab4-4840-96a3-9247ef6fa8f8",
      "cell_type": "code",
      "source": "# 1. Smallest Multiple\ndef find_smallest_multiple(n: int):\n    if n == 1:\n        return 1\n    x = n\n    while True:\n        divisible = True\n        for i in range(1, n+1):\n            if x % i != 0:\n                divisible = False\n                break\n        if divisible:\n            return x\n        x += 1\n\nn = int(input(\"Enter n to find smallest multiple divisible by 1 to n: \"))\nprint(f\"Smallest multiple divisible by 1 to {n} is: {find_smallest_multiple(n)}\")",
      "metadata": {
        "trusted": true
      },
      "outputs": [
        {
          "output_type": "stream",
          "name": "stdin",
          "text": "Enter n to find smallest multiple divisible by 1 to n:  20\n"
        },
        {
          "name": "stdout",
          "output_type": "stream",
          "text": "Smallest multiple divisible by 1 to 20 is: 232792560\n"
        }
      ],
      "execution_count": 9
    },
    {
      "id": "efa660b6-0054-4a30-b880-8ead88fd8a17",
      "cell_type": "code",
      "source": "# 2. Armstrong functions\ndef cubesum(num):\n    return sum(int(digit)**3 for digit in str(num))\n\ndef isArmstrong(num):\n    return num == cubesum(num)\n\ndef PrintArmstrong(limit):\n    for i in range(limit+1):\n        if isArmstrong(i):\n            print(i, end=\" \")\n    print()\n\nnum = int(input(\"Enter number to check if Armstrong: \"))\nprint(f\"Is {num} Armstrong? {isArmstrong(num)}\")\nlimit = int(input(\"Print Armstrong numbers up to: \"))\nPrintArmstrong(limit)",
      "metadata": {
        "trusted": true
      },
      "outputs": [
        {
          "output_type": "stream",
          "name": "stdin",
          "text": "Enter number to check if Armstrong:  45\n"
        },
        {
          "name": "stdout",
          "output_type": "stream",
          "text": "Is 45 Armstrong? False\n"
        },
        {
          "output_type": "stream",
          "name": "stdin",
          "text": "Print Armstrong numbers up to:  34\n"
        },
        {
          "name": "stdout",
          "output_type": "stream",
          "text": "0 1 \n"
        }
      ],
      "execution_count": 1
    },
    {
      "id": "f28617a4-e819-4ec8-8540-b4b6d70bf7ca",
      "cell_type": "code",
      "source": "# 3. Operator Precedence Example\na = 2 + 3 * 4\nb = (2 + 3) * 4\nprint(f\"Without parentheses: 2 + 3 * 4 = {a}\")\nprint(f\"With parentheses: (2 + 3) * 4 = {b}\")",
      "metadata": {
        "trusted": true
      },
      "outputs": [
        {
          "name": "stdout",
          "output_type": "stream",
          "text": "Without parentheses: 2 + 3 * 4 = 14\nWith parentheses: (2 + 3) * 4 = 20\n"
        }
      ],
      "execution_count": 2
    },
    {
      "id": "34ebc8d7-5010-4f64-8aba-7b133381735c",
      "cell_type": "code",
      "source": "# 4. Decimal to Binary, Octal, Hexadecimal\ndec = int(input(\"Enter a decimal number: \"))\nprint(f\"Binary: {bin(dec)[2:]}\")\nprint(f\"Octal: {oct(dec)[2:]}\")\nprint(f\"Hexadecimal: {hex(dec)[2:].upper()}\")",
      "metadata": {
        "trusted": true
      },
      "outputs": [
        {
          "output_type": "stream",
          "name": "stdin",
          "text": "Enter a decimal number:  3420\n"
        },
        {
          "name": "stdout",
          "output_type": "stream",
          "text": "Binary: 110101011100\nOctal: 6534\nHexadecimal: D5C\n"
        }
      ],
      "execution_count": 5
    },
    {
      "id": "02b11a80-552e-49fb-b237-8f84f070c550",
      "cell_type": "code",
      "source": "# 5. Squares from 1 to 30\nsquares = [i**2 for i in range(1, 31)]\nprint(\"Squares from 1 to 30:\", squares)",
      "metadata": {
        "trusted": true
      },
      "outputs": [
        {
          "name": "stdout",
          "output_type": "stream",
          "text": "Squares from 1 to 30: [1, 4, 9, 16, 25, 36, 49, 64, 81, 100, 121, 144, 169, 196, 225, 256, 289, 324, 361, 400, 441, 484, 529, 576, 625, 676, 729, 784, 841, 900]\n"
        }
      ],
      "execution_count": 6
    },
    {
      "id": "3fe13a78-635f-4c04-8e13-92643832408d",
      "cell_type": "code",
      "source": "# 6. Frequency of vowels, consonants, digits, special characters\nsentence = input(\"Enter a sentence: \")\nvowels = consonants = digits = special = 0\nfor ch in sentence:\n    if ch.lower() in \"aeiou\":\n        vowels += 1\n    elif ch.isalpha():\n        consonants += 1\n    elif ch.isdigit():\n        digits += 1\n    else:\n        special += 1\nprint(f\"Vowels: {vowels}, Consonants: {consonants}, Digits: {digits}, Special characters: {special}\")",
      "metadata": {
        "trusted": true
      },
      "outputs": [
        {
          "output_type": "stream",
          "name": "stdin",
          "text": "Enter a sentence:  yeah i know its tough to handle\n"
        },
        {
          "name": "stdout",
          "output_type": "stream",
          "text": "Vowels: 10, Consonants: 15, Digits: 0, Special characters: 6\n"
        }
      ],
      "execution_count": 7
    },
    {
      "id": "2b6f655e-2121-4194-98b9-982fef70e460",
      "cell_type": "code",
      "source": "# 7. Student dictionary\nstudents = {}\nn = int(input(\"Enter number of students: \"))\nfor _ in range(n):\n    name = input(\"Enter student name: \")\n    marks = float(input(\"Enter marks: \"))\n    students[name] = marks\n\nhighest_student = max(students, key=students.get)\nlowest_student = min(students, key=students.get)\nprint(f\"Student with highest marks: {highest_student} ({students[highest_student]})\")\nprint(f\"Student with lowest marks: {lowest_student} ({students[lowest_student]})\")",
      "metadata": {
        "trusted": true
      },
      "outputs": [
        {
          "output_type": "stream",
          "name": "stdin",
          "text": "Enter number of students:  4\nEnter student name:  ohi\nEnter marks:  34\nEnter student name:  tiger\nEnter marks:  37\nEnter student name:  veer\nEnter marks:  48\nEnter student name:  mono\nEnter marks:  28\n"
        },
        {
          "name": "stdout",
          "output_type": "stream",
          "text": "Student with highest marks: veer (48.0)\nStudent with lowest marks: mono (28.0)\n"
        }
      ],
      "execution_count": 8
    },
    {
      "id": "7768141f-2f60-4457-84cb-88d81be677d0",
      "cell_type": "code",
      "source": "",
      "metadata": {
        "trusted": true
      },
      "outputs": [],
      "execution_count": null
    }
  ]
}