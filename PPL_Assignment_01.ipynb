{
  "nbformat": 4,
  "nbformat_minor": 0,
  "metadata": {
    "colab": {
      "provenance": []
    },
    "kernelspec": {
      "name": "python3",
      "display_name": "Python 3"
    },
    "language_info": {
      "name": "python"
    }
  },
  "cells": [
    {
      "cell_type": "markdown",
      "source": [
        "Q1). Write a Python program to get a list, sorted in increasing order by the last element in\\\n",
        "each tuple from a given list of non-empty tuples."
      ],
      "metadata": {
        "id": "xBeG_X7brdkg"
      }
    },
    {
      "cell_type": "code",
      "execution_count": 1,
      "metadata": {
        "colab": {
          "base_uri": "https://localhost:8080/"
        },
        "id": "o6mT7JCjrZaP",
        "outputId": "508992e7-8eec-4a5c-8122-9c38a6ed4314"
      },
      "outputs": [
        {
          "output_type": "stream",
          "name": "stdout",
          "text": [
            "[(2, 1), (1, 2), (2, 3), (4, 4), (2, 5)]\n"
          ]
        }
      ],
      "source": [
        "sample_list = [(2, 5), (1, 2), (4, 4), (2, 3), (2, 1)]\n",
        "def get_last(t):\n",
        "    return t[-1]\n",
        "sorted_list = sorted(sample_list, key=get_last)\n",
        "print(sorted_list)"
      ]
    },
    {
      "cell_type": "markdown",
      "source": [
        "Q2. Write a Python program to get a string from a given string where all occurrences of its\\\n",
        "first char have been changed to &#39;$&#39;, except the first char itself."
      ],
      "metadata": {
        "id": "1QQ_4yMgrvVM"
      }
    },
    {
      "cell_type": "code",
      "source": [
        "def change_char(s):\n",
        "    first_char = s[0]\n",
        "    modified = first_char + s[1:].replace(first_char, '$')\n",
        "    return modified\n",
        "\n",
        "print(change_char('restart'))"
      ],
      "metadata": {
        "colab": {
          "base_uri": "https://localhost:8080/"
        },
        "id": "ILULj0yxruJi",
        "outputId": "fe15fa32-b813-4ac9-bc79-1acbeee41258"
      },
      "execution_count": 2,
      "outputs": [
        {
          "output_type": "stream",
          "name": "stdout",
          "text": [
            "resta$t\n"
          ]
        }
      ]
    },
    {
      "cell_type": "markdown",
      "source": [
        "Q3. Write a Python program to find the first appearance of the substring &#39;not&#39; and &#39;poor&#39; from\\\n",
        "a given string, if &#39;bad&#39; follows the &#39;poor&#39;, replace the whole &#39;not&#39;...&#39;poor&#39; substring with &#39;good&#39;.\\\n",
        "Return the resulting string."
      ],
      "metadata": {
        "id": "n7aTlH0ZsEUa"
      }
    },
    {
      "cell_type": "code",
      "source": [
        "def replace_not_poor(s):\n",
        "    not_index = s.find('not')\n",
        "    poor_index = s.find('poor')\n",
        "    bad_index = s.find('bad')\n",
        "\n",
        "    if not_index != -1 and poor_index != -1 and bad_index != -1 and poor_index > not_index < bad_index and bad_index > poor_index:\n",
        "        s = s[:not_index] + 'good' + s[poor_index + 4:]\n",
        "    return s\n",
        "\n",
        "# Test\n",
        "print(replace_not_poor(\"The food is not that poor but really bad!\"))\n",
        "print(replace_not_poor(\"This movie is not so poor and bad.\"))\n",
        "print(replace_not_poor(\"The dinner is poor, not good.\"))"
      ],
      "metadata": {
        "colab": {
          "base_uri": "https://localhost:8080/"
        },
        "id": "dGkIXcFNr7wf",
        "outputId": "63984c48-767d-4947-b9c6-7389ffbedc91"
      },
      "execution_count": 3,
      "outputs": [
        {
          "output_type": "stream",
          "name": "stdout",
          "text": [
            "The food is good but really bad!\n",
            "This movie is good and bad.\n",
            "The dinner is poor, not good.\n"
          ]
        }
      ]
    },
    {
      "cell_type": "markdown",
      "source": [
        "Q4. Write a python program to sort a dictionary by value."
      ],
      "metadata": {
        "id": "bhWqt7Q7saLN"
      }
    },
    {
      "cell_type": "code",
      "source": [
        "my_dict = {'apple': 10, 'banana': 2, 'orange': 5, 'mango': 7}\n",
        "sorted_dict = dict(sorted(my_dict.items(), key=lambda item: item[1]))\n",
        "print(\"Dictionary sorted by value:\", sorted_dict)"
      ],
      "metadata": {
        "colab": {
          "base_uri": "https://localhost:8080/"
        },
        "id": "OUHx3XwTsUhS",
        "outputId": "b1740186-bb19-415d-899e-b3e14e5b6b2d"
      },
      "execution_count": 4,
      "outputs": [
        {
          "output_type": "stream",
          "name": "stdout",
          "text": [
            "Dictionary sorted by value: {'banana': 2, 'orange': 5, 'mango': 7, 'apple': 10}\n"
          ]
        }
      ]
    },
    {
      "cell_type": "markdown",
      "source": [
        "Q5. Write a python program to add key to a dictionary."
      ],
      "metadata": {
        "id": "PPwmTkZ6slZX"
      }
    },
    {
      "cell_type": "code",
      "source": [
        "my_dict = {0: 10, 1: 20}\n",
        "print(\"Original Dictionary:\", my_dict)\n",
        "my_dict[2] = 30\n",
        "key = int(input(\"Enter a key for dictionary :\"))\n",
        "value = int(input(\"Enter a value for dictionary :\"))\n",
        "my_dict[key] = value\n",
        "print(\"Updated Dictionary:\", my_dict)"
      ],
      "metadata": {
        "colab": {
          "base_uri": "https://localhost:8080/"
        },
        "id": "BbJ2AQCVshJf",
        "outputId": "8df78b38-4960-486e-a576-9079c5bbedd3"
      },
      "execution_count": 5,
      "outputs": [
        {
          "output_type": "stream",
          "name": "stdout",
          "text": [
            "Original Dictionary: {0: 10, 1: 20}\n",
            "Enter a key for dictionary :1\n",
            "Enter a value for dictionary :12\n",
            "Updated Dictionary: {0: 10, 1: 12, 2: 30}\n"
          ]
        }
      ]
    },
    {
      "cell_type": "code",
      "source": [],
      "metadata": {
        "id": "WVrVjt3Esq40"
      },
      "execution_count": null,
      "outputs": []
    }
  ]
}