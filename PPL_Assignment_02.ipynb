{
  "nbformat": 4,
  "nbformat_minor": 0,
  "metadata": {
    "colab": {
      "provenance": []
    },
    "kernelspec": {
      "name": "python3",
      "display_name": "Python 3"
    },
    "language_info": {
      "name": "python"
    }
  },
  "cells": [
    {
      "cell_type": "markdown",
      "source": [
        "**1) Positive or Negative**\n",
        "<hr>\n",
        "Q: Write a program to check whether a given number is positive, negative, or zero"
      ],
      "metadata": {
        "id": "xtvZ_rQAmTJ8"
      }
    },
    {
      "cell_type": "code",
      "execution_count": 1,
      "metadata": {
        "colab": {
          "base_uri": "https://localhost:8080/"
        },
        "id": "MO-RVWUhl63l",
        "outputId": "60137707-9a63-4655-8745-cd1a971575de"
      },
      "outputs": [
        {
          "output_type": "stream",
          "name": "stdout",
          "text": [
            "Enter a number: 45\n",
            "The number 45.0 is Positive.\n"
          ]
        }
      ],
      "source": [
        "\n",
        "num = float(input(\"Enter a number: \"))\n",
        "if num > 0:\n",
        "        print(f\"The number {num} is Positive.\")\n",
        "elif num < 0:\n",
        "        print(f\"The number {num} is Negative.\")\n",
        "else:\n",
        "        print(\"The number is Zero.\")"
      ]
    },
    {
      "cell_type": "markdown",
      "source": [
        "**2) Even or Odd**\n",
        "<hr>\n",
        "Q: Write a program to check whether a given integer is even or odd"
      ],
      "metadata": {
        "id": "q4kq4k-imRkr"
      }
    },
    {
      "cell_type": "code",
      "source": [
        "num = int(input(\"Enter an integer: \"))\n",
        "if num % 2 == 0:\n",
        "    print(f\"The number {num} is Even.\")\n",
        "else:\n",
        "    print(f\"The number {num} is Odd.\")"
      ],
      "metadata": {
        "colab": {
          "base_uri": "https://localhost:8080/"
        },
        "id": "Xs55HJQbmtf-",
        "outputId": "a9ecdc7f-60c5-4e03-cb2d-d63ace7c0cda"
      },
      "execution_count": 2,
      "outputs": [
        {
          "output_type": "stream",
          "name": "stdout",
          "text": [
            "Enter an integer: -22\n",
            "The number -22 is Even.\n"
          ]
        }
      ]
    },
    {
      "cell_type": "markdown",
      "source": [
        "**3) Largest of Two Numbers**\n",
        "<hr>\n",
        "Write a program to input two numbers and print which one is larger"
      ],
      "metadata": {
        "id": "uqJMZBjdnSSL"
      }
    },
    {
      "cell_type": "code",
      "source": [
        "\n",
        "num1 = float(input(\"Enter the first number: \"))\n",
        "num2 = float(input(\"Enter the second number: \"))\n",
        "if num1 > num2:\n",
        "    print(f\"Between {num1} and {num2}, the larger number is {num1}.\")\n",
        "elif num2 > num1:\n",
        "    print(f\"Between {num1} and {num2}, the larger number is {num2}.\")\n",
        "else:\n",
        "    print(\"Both numbers are equal.\")"
      ],
      "metadata": {
        "colab": {
          "base_uri": "https://localhost:8080/"
        },
        "id": "Xi8E8PTwnF6u",
        "outputId": "197db75a-1d1f-44bc-ea90-16adabf3ddcb"
      },
      "execution_count": 3,
      "outputs": [
        {
          "output_type": "stream",
          "name": "stdout",
          "text": [
            "Enter the first number: 12\n",
            "Enter the second number: 23\n",
            "Between 12.0 and 23.0, the larger number is 23.0.\n"
          ]
        }
      ]
    },
    {
      "cell_type": "markdown",
      "source": [
        "**4) Absolute Value**\n",
        "<hr>\n",
        "Write a program to find the absolute value of a given number without using the abs() function"
      ],
      "metadata": {
        "id": "zSXFFgB5nsSJ"
      }
    },
    {
      "cell_type": "code",
      "source": [
        "\n",
        "num = float(input(\"Enter a number: \"))\n",
        "if num < 0:\n",
        "    absolute_value = num * -1\n",
        "else:\n",
        "    absolute_value = num\n",
        "\n",
        "print(f\"The absolute value of {num} is {absolute_value}.\")"
      ],
      "metadata": {
        "colab": {
          "base_uri": "https://localhost:8080/"
        },
        "id": "qbpTZ0AInkGY",
        "outputId": "06f0bf6d-62b7-45f4-9dd5-4e58ae07c2e7"
      },
      "execution_count": 4,
      "outputs": [
        {
          "output_type": "stream",
          "name": "stdout",
          "text": [
            "Enter a number: 12\n",
            "The absolute value of 12.0 is 12.0.\n"
          ]
        }
      ]
    },
    {
      "cell_type": "markdown",
      "source": [
        "**5) Eligibility for Voting**\n",
        "<hr>\n",
        "Write a program to check whether a person is eligible to vote or not. (A person is eligible if their age is 18 or above)"
      ],
      "metadata": {
        "id": "2xquO84Ho01P"
      }
    },
    {
      "cell_type": "code",
      "source": [
        "age = int(input(\"Enter your age: \"))\n",
        "if age >= 18:\n",
        "    print(\"You are eligible to vote. Because you are 18 or older.\")\n",
        "else:\n",
        "    print(\"You are not eligible to vote.\")"
      ],
      "metadata": {
        "colab": {
          "base_uri": "https://localhost:8080/"
        },
        "id": "n2vkv1q_ozJG",
        "outputId": "ffb16d87-856a-43a3-a529-31884c2bf16a"
      },
      "execution_count": 5,
      "outputs": [
        {
          "output_type": "stream",
          "name": "stdout",
          "text": [
            "Enter your age: 90\n",
            "You are eligible to vote. Because you are 18 or older.\n"
          ]
        }
      ]
    },
    {
      "cell_type": "markdown",
      "source": [
        "**6) Leap Year Check**\n",
        "<hr>\n",
        "Write a program to check whether a given year is a leap year or not"
      ],
      "metadata": {
        "id": "VGFRaEXTpNDA"
      }
    },
    {
      "cell_type": "code",
      "source": [
        "year = int(input(\"Enter a year: \"))\n",
        "if (year % 400 == 0) or (year % 4 == 0 and year % 100 != 0):\n",
        "    print(f\"{year} is a leap year. \")\n",
        "else:\n",
        "    print(f\"{year} is not a leap year.\")"
      ],
      "metadata": {
        "colab": {
          "base_uri": "https://localhost:8080/"
        },
        "id": "0jAG7TFOpLCD",
        "outputId": "1375b007-7714-4052-c748-7bf1257c566c"
      },
      "execution_count": 7,
      "outputs": [
        {
          "output_type": "stream",
          "name": "stdout",
          "text": [
            "Enter a year: 1996\n",
            "1996 is a leap year. \n"
          ]
        }
      ]
    },
    {
      "cell_type": "markdown",
      "source": [
        "**7) Grade Calculation**\n",
        "<hr>\n",
        "Write a program that takes marks as input and prints 'Pass' if marks are 40 or above, and 'Fail' otherwise"
      ],
      "metadata": {
        "id": "Lau79AjXpr9-"
      }
    },
    {
      "cell_type": "code",
      "source": [
        "marks = float(input(\"Enter the marks: \"))\n",
        "if marks >= 40:\n",
        "    print(\"Result: Pass\")\n",
        "else:\n",
        "    print(\"Result: Fail\")"
      ],
      "metadata": {
        "colab": {
          "base_uri": "https://localhost:8080/"
        },
        "id": "vPS7eIWspabf",
        "outputId": "2d09a588-ef2d-41a9-bead-ff274e570432"
      },
      "execution_count": 8,
      "outputs": [
        {
          "output_type": "stream",
          "name": "stdout",
          "text": [
            "Enter the marks: 46\n",
            "Result: Pass\n"
          ]
        }
      ]
    },
    {
      "cell_type": "markdown",
      "source": [
        "**8) Multiple of 5**\n",
        "<hr>\n",
        "Write a program to check whether a given number is a multiple of 5"
      ],
      "metadata": {
        "id": "fBH9y5ySp8zq"
      }
    },
    {
      "cell_type": "code",
      "source": [
        "num = int(input(\"Enter an integer: \"))\n",
        "if num % 5 == 0:\n",
        "    print(f\"{num} is a multiple of 5.\")\n",
        "else:\n",
        "    print(f\"{num} is not a multiple of 5.\")"
      ],
      "metadata": {
        "colab": {
          "base_uri": "https://localhost:8080/"
        },
        "id": "UBNviYWGp6Tw",
        "outputId": "12fe1ae8-5c51-4458-a434-7a944c7cca51"
      },
      "execution_count": 9,
      "outputs": [
        {
          "output_type": "stream",
          "name": "stdout",
          "text": [
            "Enter an integer: 23\n",
            "23 is not a multiple of 5.\n"
          ]
        }
      ]
    },
    {
      "cell_type": "markdown",
      "source": [
        "**9) Character Case Check**\n",
        "<hr>\n",
        "Write a program to input a character and check whether it is an uppercase letter, lowercase letter, or not a letter"
      ],
      "metadata": {
        "id": "h52v3kX-qP2P"
      }
    },
    {
      "cell_type": "code",
      "source": [
        "char = input(\"Enter a single character: \")[0]\n",
        "if 'a' <= char <= 'z':\n",
        "    print(f\"The character '{char}' is a lowercase letter.\")\n",
        "elif 'A' <= char <= 'Z':\n",
        "    print(f\"The character '{char}' is an uppercase letter.\")\n",
        "else:\n",
        "    print(f\"The character '{char}' is not a letter.\")"
      ],
      "metadata": {
        "colab": {
          "base_uri": "https://localhost:8080/"
        },
        "id": "2ubwX75BqJlD",
        "outputId": "e3a944c1-c99d-4f73-f160-00e868d92322"
      },
      "execution_count": 10,
      "outputs": [
        {
          "output_type": "stream",
          "name": "stdout",
          "text": [
            "Enter a single character: d\n",
            "The character 'd' is a lowercase letter.\n"
          ]
        }
      ]
    },
    {
      "cell_type": "markdown",
      "source": [
        "**10) Discount Calculator**\n",
        "<hr>\n",
        "Calculate a discount: 10% if the purchase amount is >= 1000, otherwise no discount. Print the final bill"
      ],
      "metadata": {
        "id": "oKSEZXMKqeHs"
      }
    },
    {
      "cell_type": "code",
      "source": [
        "purchase_amount = float(input(\"Enter the total purchase amount: \"))\n",
        "discount = float(input(\"Enter how much discount you want: \"))\n",
        "if purchase_amount >= 1000:\n",
        "    discount = purchase_amount * (discount / 100)\n",
        "    print(f\"A discount of 10% (${discount:.2f}) has been applied!\")\n",
        "else:\n",
        "    print(\"No discount is applicable.\")\n",
        "final_bill = purchase_amount - discount\n",
        "\n",
        "print(f\"\\nOriginal Amount: Rs{purchase_amount:.2f}\")\n",
        "print(f\"Final Bill after discount: Rs{final_bill:.2f}\")"
      ],
      "metadata": {
        "colab": {
          "base_uri": "https://localhost:8080/"
        },
        "id": "6yv8SBvwqcA_",
        "outputId": "711c3151-1d1a-46a9-de7c-1cffd0b54494"
      },
      "execution_count": 14,
      "outputs": [
        {
          "output_type": "stream",
          "name": "stdout",
          "text": [
            "Enter the total purchase amount: 1800\n",
            "Enter how much discount you want: 10\n",
            "A discount of 10% ($180.00) has been applied!\n",
            "\n",
            "Original Amount: Rs1800.00\n",
            "Final Bill after discount: Rs1620.00\n"
          ]
        }
      ]
    },
    {
      "cell_type": "code",
      "source": [],
      "metadata": {
        "id": "107L6vhiquzF"
      },
      "execution_count": 14,
      "outputs": []
    }
  ]
}